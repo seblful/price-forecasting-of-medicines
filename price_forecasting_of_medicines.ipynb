{
 "cells": [
  {
   "cell_type": "markdown",
   "id": "9f68128e",
   "metadata": {},
   "source": [
    "## Predicting price of medicines"
   ]
  },
  {
   "cell_type": "markdown",
   "id": "c0bb535f",
   "metadata": {
    "id": "c0bb535f"
   },
   "source": [
    "<font size=\"4\">Importing libraries</font>"
   ]
  },
  {
   "cell_type": "code",
   "execution_count": 1,
   "id": "aebdc132",
   "metadata": {
    "executionInfo": {
     "elapsed": 13160,
     "status": "ok",
     "timestamp": 1670342090725,
     "user": {
      "displayName": "sebl ful",
      "userId": "03602527080582451963"
     },
     "user_tz": -180
    },
    "id": "aebdc132"
   },
   "outputs": [],
   "source": [
    "import warnings\n",
    "warnings.filterwarnings('ignore')\n",
    "\n",
    "import numpy as np \n",
    "import pandas as pd \n",
    "import matplotlib.pyplot as plt\n",
    "import seaborn as sns\n",
    "import re\n",
    "\n",
    "from sklearn.model_selection import train_test_split\n",
    "from sklearn.pipeline import Pipeline\n",
    "\n",
    "from sklearn.linear_model import LinearRegression\n",
    "from sklearn.linear_model import Lasso\n",
    "from sklearn.linear_model import Ridge\n",
    "from sklearn.linear_model import ElasticNet\n",
    "from sklearn.tree import DecisionTreeRegressor\n",
    "from sklearn.ensemble import RandomForestRegressor\n",
    "from sklearn.neighbors import KNeighborsRegressor\n",
    "from xgboost import XGBRegressor\n",
    "\n",
    "from sklearn.metrics import mean_squared_error\n",
    "from sklearn.metrics import r2_score\n",
    "\n",
    "import  tensorflow as tf"
   ]
  },
  {
   "cell_type": "markdown",
   "id": "b00f098e",
   "metadata": {
    "id": "b00f098e"
   },
   "source": [
    "<font size=\"4\">Reading data</font>\n",
    "\n",
    "I used data from my another project \"Analysis and vizualizations of Grodno pharmacies\"\n",
    "\n",
    "https://github.com/seblful/grodno_pharmacies_analysis"
   ]
  },
  {
   "cell_type": "code",
   "execution_count": 86,
   "id": "bd257fe2",
   "metadata": {
    "executionInfo": {
     "elapsed": 2225,
     "status": "ok",
     "timestamp": 1670342096159,
     "user": {
      "displayName": "sebl ful",
      "userId": "03602527080582451963"
     },
     "user_tz": -180
    },
    "id": "bd257fe2"
   },
   "outputs": [],
   "source": [
    "df = pd.read_csv('df_ph_04-12-22.csv')"
   ]
  },
  {
   "cell_type": "markdown",
   "id": "a807505a",
   "metadata": {},
   "source": [
    "Deleting unnecesary columns and columns with trade name for simplicity"
   ]
  },
  {
   "cell_type": "code",
   "execution_count": 87,
   "id": "6baa0a40",
   "metadata": {
    "executionInfo": {
     "elapsed": 11,
     "status": "ok",
     "timestamp": 1670342096160,
     "user": {
      "displayName": "sebl ful",
      "userId": "03602527080582451963"
     },
     "user_tz": -180
    },
    "id": "6baa0a40"
   },
   "outputs": [],
   "source": [
    "target_rows = ['dosage_form', 'active_ingredient', 'is_prescribed', 'name_of_manufacturer',\n",
    "              'country_of_manufaturer', 'is_import', 'retail_chain', 'price_of_medicine']\n",
    "\n",
    "meds = df.loc[df.is_medicine == 1, target_rows].reset_index(drop=True)"
   ]
  },
  {
   "cell_type": "markdown",
   "id": "9dc6ec80",
   "metadata": {
    "id": "9dc6ec80"
   },
   "source": [
    "<font size=\"4\">Data analysis</font>"
   ]
  },
  {
   "cell_type": "code",
   "execution_count": 88,
   "id": "09c027f9",
   "metadata": {
    "colab": {
     "base_uri": "https://localhost:8080/",
     "height": 478
    },
    "executionInfo": {
     "elapsed": 7,
     "status": "ok",
     "timestamp": 1670342098459,
     "user": {
      "displayName": "sebl ful",
      "userId": "03602527080582451963"
     },
     "user_tz": -180
    },
    "id": "09c027f9",
    "outputId": "70c8b99b-44a9-434f-f442-43425dbc5710"
   },
   "outputs": [
    {
     "data": {
      "text/html": [
       "<div>\n",
       "<style scoped>\n",
       "    .dataframe tbody tr th:only-of-type {\n",
       "        vertical-align: middle;\n",
       "    }\n",
       "\n",
       "    .dataframe tbody tr th {\n",
       "        vertical-align: top;\n",
       "    }\n",
       "\n",
       "    .dataframe thead th {\n",
       "        text-align: right;\n",
       "    }\n",
       "</style>\n",
       "<table border=\"1\" class=\"dataframe\">\n",
       "  <thead>\n",
       "    <tr style=\"text-align: right;\">\n",
       "      <th></th>\n",
       "      <th>dosage_form</th>\n",
       "      <th>active_ingredient</th>\n",
       "      <th>is_prescribed</th>\n",
       "      <th>name_of_manufacturer</th>\n",
       "      <th>country_of_manufaturer</th>\n",
       "      <th>is_import</th>\n",
       "      <th>retail_chain</th>\n",
       "      <th>price_of_medicine</th>\n",
       "    </tr>\n",
       "  </thead>\n",
       "  <tbody>\n",
       "    <tr>\n",
       "      <th>0</th>\n",
       "      <td>таблетки 150мкг N100</td>\n",
       "      <td>Левотироксин натрия</td>\n",
       "      <td>0</td>\n",
       "      <td>Берлин-Хеми/Менарини</td>\n",
       "      <td>Германия</td>\n",
       "      <td>1</td>\n",
       "      <td>Inlek</td>\n",
       "      <td>9.28</td>\n",
       "    </tr>\n",
       "    <tr>\n",
       "      <th>1</th>\n",
       "      <td>порошок для приг. раствора внутр. 1г N20</td>\n",
       "      <td>Аскорбиновая кислота</td>\n",
       "      <td>0</td>\n",
       "      <td>Экзон</td>\n",
       "      <td>Беларусь</td>\n",
       "      <td>0</td>\n",
       "      <td>Inlek</td>\n",
       "      <td>3.60</td>\n",
       "    </tr>\n",
       "    <tr>\n",
       "      <th>2</th>\n",
       "      <td>таблетки 25мг N20</td>\n",
       "      <td>Аскорбиновая кислота</td>\n",
       "      <td>0</td>\n",
       "      <td>Белмедпрепараты</td>\n",
       "      <td>Беларусь</td>\n",
       "      <td>0</td>\n",
       "      <td>Inlek</td>\n",
       "      <td>0.76</td>\n",
       "    </tr>\n",
       "    <tr>\n",
       "      <th>3</th>\n",
       "      <td>таблетки покрытые оболочкой 100мг N20</td>\n",
       "      <td>Умифеновир</td>\n",
       "      <td>0</td>\n",
       "      <td>Лекфарм</td>\n",
       "      <td>Беларусь</td>\n",
       "      <td>0</td>\n",
       "      <td>Inlek</td>\n",
       "      <td>11.62</td>\n",
       "    </tr>\n",
       "    <tr>\n",
       "      <th>4</th>\n",
       "      <td>таблетки покрытые оболочкой  N12</td>\n",
       "      <td>Парацетамол+Фенилэфрин+Хлорфенамин</td>\n",
       "      <td>0</td>\n",
       "      <td>Байер Консьюмер</td>\n",
       "      <td>Швейцария</td>\n",
       "      <td>1</td>\n",
       "      <td>Inlek</td>\n",
       "      <td>9.20</td>\n",
       "    </tr>\n",
       "  </tbody>\n",
       "</table>\n",
       "</div>"
      ],
      "text/plain": [
       "                                dosage_form  \\\n",
       "0                      таблетки 150мкг N100   \n",
       "1  порошок для приг. раствора внутр. 1г N20   \n",
       "2                         таблетки 25мг N20   \n",
       "3     таблетки покрытые оболочкой 100мг N20   \n",
       "4          таблетки покрытые оболочкой  N12   \n",
       "\n",
       "                    active_ingredient  is_prescribed  name_of_manufacturer  \\\n",
       "0                 Левотироксин натрия              0  Берлин-Хеми/Менарини   \n",
       "1                Аскорбиновая кислота              0                 Экзон   \n",
       "2                Аскорбиновая кислота              0       Белмедпрепараты   \n",
       "3                          Умифеновир              0               Лекфарм   \n",
       "4  Парацетамол+Фенилэфрин+Хлорфенамин              0       Байер Консьюмер   \n",
       "\n",
       "  country_of_manufaturer  is_import retail_chain  price_of_medicine  \n",
       "0               Германия          1        Inlek               9.28  \n",
       "1               Беларусь          0        Inlek               3.60  \n",
       "2               Беларусь          0        Inlek               0.76  \n",
       "3               Беларусь          0        Inlek              11.62  \n",
       "4              Швейцария          1        Inlek               9.20  "
      ]
     },
     "execution_count": 88,
     "metadata": {},
     "output_type": "execute_result"
    }
   ],
   "source": [
    "meds.head()"
   ]
  },
  {
   "cell_type": "code",
   "execution_count": 89,
   "id": "55c04915",
   "metadata": {
    "colab": {
     "base_uri": "https://localhost:8080/"
    },
    "executionInfo": {
     "elapsed": 16,
     "status": "ok",
     "timestamp": 1670342100565,
     "user": {
      "displayName": "sebl ful",
      "userId": "03602527080582451963"
     },
     "user_tz": -180
    },
    "id": "55c04915",
    "outputId": "9f9c43ea-46a8-4918-b41f-4f972c3abf0a"
   },
   "outputs": [
    {
     "name": "stdout",
     "output_type": "stream",
     "text": [
      "<class 'pandas.core.frame.DataFrame'>\n",
      "RangeIndex: 327988 entries, 0 to 327987\n",
      "Data columns (total 8 columns):\n",
      " #   Column                  Non-Null Count   Dtype  \n",
      "---  ------                  --------------   -----  \n",
      " 0   dosage_form             327988 non-null  object \n",
      " 1   active_ingredient       327988 non-null  object \n",
      " 2   is_prescribed           327988 non-null  int64  \n",
      " 3   name_of_manufacturer    327988 non-null  object \n",
      " 4   country_of_manufaturer  327988 non-null  object \n",
      " 5   is_import               327988 non-null  int64  \n",
      " 6   retail_chain            327988 non-null  object \n",
      " 7   price_of_medicine       327988 non-null  float64\n",
      "dtypes: float64(1), int64(2), object(5)\n",
      "memory usage: 20.0+ MB\n"
     ]
    }
   ],
   "source": [
    "meds.info()"
   ]
  },
  {
   "cell_type": "code",
   "execution_count": 90,
   "id": "6d00f702",
   "metadata": {
    "colab": {
     "base_uri": "https://localhost:8080/",
     "height": 143
    },
    "executionInfo": {
     "elapsed": 8,
     "status": "ok",
     "timestamp": 1670342102340,
     "user": {
      "displayName": "sebl ful",
      "userId": "03602527080582451963"
     },
     "user_tz": -180
    },
    "id": "6d00f702",
    "outputId": "8f1cdd7d-7219-4480-f020-559daf5ca467"
   },
   "outputs": [
    {
     "data": {
      "text/html": [
       "<div>\n",
       "<style scoped>\n",
       "    .dataframe tbody tr th:only-of-type {\n",
       "        vertical-align: middle;\n",
       "    }\n",
       "\n",
       "    .dataframe tbody tr th {\n",
       "        vertical-align: top;\n",
       "    }\n",
       "\n",
       "    .dataframe thead th {\n",
       "        text-align: right;\n",
       "    }\n",
       "</style>\n",
       "<table border=\"1\" class=\"dataframe\">\n",
       "  <thead>\n",
       "    <tr style=\"text-align: right;\">\n",
       "      <th></th>\n",
       "      <th>count</th>\n",
       "      <th>mean</th>\n",
       "      <th>std</th>\n",
       "      <th>min</th>\n",
       "      <th>25%</th>\n",
       "      <th>50%</th>\n",
       "      <th>75%</th>\n",
       "      <th>max</th>\n",
       "    </tr>\n",
       "  </thead>\n",
       "  <tbody>\n",
       "    <tr>\n",
       "      <th>is_prescribed</th>\n",
       "      <td>327988.0</td>\n",
       "      <td>0.145136</td>\n",
       "      <td>0.352239</td>\n",
       "      <td>0.00</td>\n",
       "      <td>0.00</td>\n",
       "      <td>0.00</td>\n",
       "      <td>0.0</td>\n",
       "      <td>1.00</td>\n",
       "    </tr>\n",
       "    <tr>\n",
       "      <th>is_import</th>\n",
       "      <td>327988.0</td>\n",
       "      <td>0.518766</td>\n",
       "      <td>0.499648</td>\n",
       "      <td>0.00</td>\n",
       "      <td>0.00</td>\n",
       "      <td>1.00</td>\n",
       "      <td>1.0</td>\n",
       "      <td>1.00</td>\n",
       "    </tr>\n",
       "    <tr>\n",
       "      <th>price_of_medicine</th>\n",
       "      <td>327988.0</td>\n",
       "      <td>16.104491</td>\n",
       "      <td>19.452182</td>\n",
       "      <td>0.06</td>\n",
       "      <td>5.82</td>\n",
       "      <td>11.14</td>\n",
       "      <td>20.1</td>\n",
       "      <td>1855.04</td>\n",
       "    </tr>\n",
       "  </tbody>\n",
       "</table>\n",
       "</div>"
      ],
      "text/plain": [
       "                      count       mean        std   min   25%    50%   75%  \\\n",
       "is_prescribed      327988.0   0.145136   0.352239  0.00  0.00   0.00   0.0   \n",
       "is_import          327988.0   0.518766   0.499648  0.00  0.00   1.00   1.0   \n",
       "price_of_medicine  327988.0  16.104491  19.452182  0.06  5.82  11.14  20.1   \n",
       "\n",
       "                       max  \n",
       "is_prescribed         1.00  \n",
       "is_import             1.00  \n",
       "price_of_medicine  1855.04  "
      ]
     },
     "execution_count": 90,
     "metadata": {},
     "output_type": "execute_result"
    }
   ],
   "source": [
    "meds.describe().T"
   ]
  },
  {
   "cell_type": "markdown",
   "id": "1e09a9e3",
   "metadata": {},
   "source": [
    "Finding outliers"
   ]
  },
  {
   "cell_type": "code",
   "execution_count": 91,
   "id": "4t3lLA6WHEy0",
   "metadata": {
    "colab": {
     "base_uri": "https://localhost:8080/",
     "height": 315
    },
    "executionInfo": {
     "elapsed": 11,
     "status": "ok",
     "timestamp": 1670342111660,
     "user": {
      "displayName": "sebl ful",
      "userId": "03602527080582451963"
     },
     "user_tz": -180
    },
    "id": "4t3lLA6WHEy0",
    "outputId": "4e561475-7c09-4a09-b305-c1a72d363130"
   },
   "outputs": [
    {
     "data": {
      "text/plain": [
       "[Text(0.5, 0, 'Price')]"
      ]
     },
     "execution_count": 91,
     "metadata": {},
     "output_type": "execute_result"
    },
    {
     "data": {
      "image/png": "[encoded data removed]",
      "text/plain": [
       "<Figure size 432x288 with 1 Axes>"
      ]
     },
     "metadata": {
      "needs_background": "light"
     },
     "output_type": "display_data"
    }
   ],
   "source": [
    "ax = sns.boxplot(meds.price_of_medicine)\n",
    "ax.set(xlabel='Price')"
   ]
  },
  {
   "cell_type": "markdown",
   "id": "c2e1740d",
   "metadata": {},
   "source": [
    "Detect outliers with IQR"
   ]
  },
  {
   "cell_type": "code",
   "execution_count": 92,
   "id": "0G3rBqBSHw6M",
   "metadata": {
    "colab": {
     "base_uri": "https://localhost:8080/"
    },
    "executionInfo": {
     "elapsed": 1133,
     "status": "ok",
     "timestamp": 1670342117137,
     "user": {
      "displayName": "sebl ful",
      "userId": "03602527080582451963"
     },
     "user_tz": -180
    },
    "id": "0G3rBqBSHw6M",
    "outputId": "2960e765-01ba-4c91-b27a-e0a4be64e6dc"
   },
   "outputs": [
    {
     "name": "stdout",
     "output_type": "stream",
     "text": [
      "Treshold outliers = 74.48\n"
     ]
    }
   ],
   "source": [
    "outliers=[]\n",
    "\n",
    "def detect_outlier(arr):\n",
    "    threshold=3\n",
    "    mean = np.mean(arr)\n",
    "    std =np.std(arr)\n",
    "    \n",
    "    for y in arr:\n",
    "        z_score= (y - mean)/std \n",
    "        if np.abs(z_score) > threshold:\n",
    "            outliers.append(y)\n",
    "    return outliers\n",
    "\n",
    "treshold_outliers = min(np.sort(detect_outlier(meds.price_of_medicine)))\n",
    "print(f'Treshold outliers = {treshold_outliers}')"
   ]
  },
  {
   "cell_type": "code",
   "execution_count": 93,
   "id": "Aznl8YnBJCUJ",
   "metadata": {
    "id": "Aznl8YnBJCUJ"
   },
   "outputs": [
    {
     "data": {
      "text/plain": [
       "[Text(0.5, 0, 'Price')]"
      ]
     },
     "execution_count": 93,
     "metadata": {},
     "output_type": "execute_result"
    },
    {
     "data": {
      "image/png": "[encoded data removed]",
      "text/plain": [
       "<Figure size 432x288 with 1 Axes>"
      ]
     },
     "metadata": {
      "needs_background": "light"
     },
     "output_type": "display_data"
    }
   ],
   "source": [
    "ax = sns.boxplot(meds.price_of_medicine[meds.price_of_medicine < treshold_outliers])\n",
    "ax.set(xlabel='Price')"
   ]
  },
  {
   "cell_type": "markdown",
   "id": "d2efa99a",
   "metadata": {
    "id": "d2efa99a"
   },
   "source": [
    "<font size=\"4\">Data preprocessing</font>"
   ]
  },
  {
   "cell_type": "markdown",
   "id": "344616fd",
   "metadata": {},
   "source": [
    "Removing outliers"
   ]
  },
  {
   "cell_type": "code",
   "execution_count": 94,
   "id": "117d5f3c",
   "metadata": {},
   "outputs": [],
   "source": [
    "meds = meds.loc[meds.price_of_medicine < treshold_outliers]"
   ]
  },
  {
   "cell_type": "markdown",
   "id": "bfd64d6f",
   "metadata": {},
   "source": [
    "Adding new column with categories of price"
   ]
  },
  {
   "cell_type": "code",
   "execution_count": 95,
   "id": "55e86537",
   "metadata": {},
   "outputs": [
    {
     "data": {
      "text/plain": [
       "Text(0.5, 1.0, 'Price distribution')"
      ]
     },
     "execution_count": 95,
     "metadata": {},
     "output_type": "execute_result"
    },
    {
     "data": {
      "image/png": "[encoded data removed]",
      "text/plain": [
       "<Figure size 432x288 with 1 Axes>"
      ]
     },
     "metadata": {
      "needs_background": "light"
     },
     "output_type": "display_data"
    }
   ],
   "source": [
    "n, bins, patches = plt.hist(meds.price_of_medicine, bins=5, facecolor = 'lightsteelblue', edgecolor='white')\n",
    "plt.xlabel('Price')\n",
    "plt.ylabel('Quantity')\n",
    "plt.title('Price distribution')"
   ]
  },
  {
   "cell_type": "code",
   "execution_count": 96,
   "id": "26c04300",
   "metadata": {
    "scrolled": true
   },
   "outputs": [
    {
     "name": "stdout",
     "output_type": "stream",
     "text": [
      "14.94 29.819999999999997 44.7 59.58 74.46\n"
     ]
    }
   ],
   "source": [
    "_, lowest_price_medicines, low_price_medicines, medium_price_medicines, high_price_medicines, highest_price_medicines = bins\n",
    "print(*[i for i in bins][1:])"
   ]
  },
  {
   "cell_type": "code",
   "execution_count": 97,
   "id": "3a194e0b",
   "metadata": {
    "executionInfo": {
     "elapsed": 71,
     "status": "ok",
     "timestamp": 1670341367606,
     "user": {
      "displayName": "sebl ful",
      "userId": "03602527080582451963"
     },
     "user_tz": -180
    },
    "id": "3a194e0b"
   },
   "outputs": [],
   "source": [
    "def cat_of_price(price):\n",
    "    if high_price_medicines < price <= highest_price_medicines:\n",
    "        return 'above_average'\n",
    "    elif medium_price_medicines < price <= high_price_medicines:\n",
    "        return 'average'\n",
    "    elif low_price_medicines < price <= medium_price_medicines:\n",
    "        return 'below_average'\n",
    "    elif lowest_price_medicines < price <= low_price_medicines:\n",
    "        return 'low'\n",
    "    elif price <= lowest_price_medicines:\n",
    "        return 'lowest'\n",
    "    else:\n",
    "        return 'what'"
   ]
  },
  {
   "cell_type": "code",
   "execution_count": 98,
   "id": "6f9b832e",
   "metadata": {
    "colab": {
     "base_uri": "https://localhost:8080/"
    },
    "executionInfo": {
     "elapsed": 1217,
     "status": "ok",
     "timestamp": 1670341403931,
     "user": {
      "displayName": "sebl ful",
      "userId": "03602527080582451963"
     },
     "user_tz": -180
    },
    "id": "6f9b832e",
    "outputId": "b7ce4cd3-723d-47cd-d589-31d85e178f45"
   },
   "outputs": [
    {
     "data": {
      "text/plain": [
       "array(['lowest', 'low', 'below_average', 'average', 'above_average'],\n",
       "      dtype=object)"
      ]
     },
     "execution_count": 98,
     "metadata": {},
     "output_type": "execute_result"
    }
   ],
   "source": [
    "meds['category_of_price'] = meds.price_of_medicine.apply(cat_of_price)\n",
    "meds.category_of_price.unique()"
   ]
  },
  {
   "cell_type": "markdown",
   "id": "eeb8f3e6",
   "metadata": {},
   "source": [
    "Making simpler dosage form"
   ]
  },
  {
   "cell_type": "code",
   "execution_count": 99,
   "id": "53cc2643",
   "metadata": {
    "executionInfo": {
     "elapsed": 5,
     "status": "ok",
     "timestamp": 1670341403932,
     "user": {
      "displayName": "sebl ful",
      "userId": "03602527080582451963"
     },
     "user_tz": -180
    },
    "id": "53cc2643"
   },
   "outputs": [],
   "source": [
    "meds.dosage_form = meds.dosage_form.apply(lambda x: x.split()[0])"
   ]
  },
  {
   "cell_type": "markdown",
   "id": "70b967ba",
   "metadata": {},
   "source": [
    "One-hot encoding"
   ]
  },
  {
   "cell_type": "code",
   "execution_count": 100,
   "id": "28db2714",
   "metadata": {
    "colab": {
     "base_uri": "https://localhost:8080/",
     "height": 317
    },
    "executionInfo": {
     "elapsed": 2391,
     "status": "ok",
     "timestamp": 1670341406319,
     "user": {
      "displayName": "sebl ful",
      "userId": "03602527080582451963"
     },
     "user_tz": -180
    },
    "id": "28db2714",
    "outputId": "61e109c5-7413-4ca8-8273-358b95b2263d"
   },
   "outputs": [
    {
     "data": {
      "text/html": [
       "<div>\n",
       "<style scoped>\n",
       "    .dataframe tbody tr th:only-of-type {\n",
       "        vertical-align: middle;\n",
       "    }\n",
       "\n",
       "    .dataframe tbody tr th {\n",
       "        vertical-align: top;\n",
       "    }\n",
       "\n",
       "    .dataframe thead th {\n",
       "        text-align: right;\n",
       "    }\n",
       "</style>\n",
       "<table border=\"1\" class=\"dataframe\">\n",
       "  <thead>\n",
       "    <tr style=\"text-align: right;\">\n",
       "      <th></th>\n",
       "      <th>is_prescribed</th>\n",
       "      <th>is_import</th>\n",
       "      <th>price_of_medicine</th>\n",
       "      <th>category_of_price_above_average</th>\n",
       "      <th>category_of_price_average</th>\n",
       "      <th>category_of_price_below_average</th>\n",
       "      <th>category_of_price_low</th>\n",
       "      <th>category_of_price_lowest</th>\n",
       "      <th>dosage_form_аэрозоль</th>\n",
       "      <th>dosage_form_бальзам</th>\n",
       "      <th>...</th>\n",
       "      <th>retail_chain_Ивафарм</th>\n",
       "      <th>retail_chain_Искамед</th>\n",
       "      <th>retail_chain_Лигматон</th>\n",
       "      <th>retail_chain_Мелисса</th>\n",
       "      <th>retail_chain_Моя Аптека</th>\n",
       "      <th>retail_chain_Остров здоровья</th>\n",
       "      <th>retail_chain_Планета Здоровья</th>\n",
       "      <th>retail_chain_Ремедика</th>\n",
       "      <th>retail_chain_Салюслайн</th>\n",
       "      <th>retail_chain_ФармОстров</th>\n",
       "    </tr>\n",
       "  </thead>\n",
       "  <tbody>\n",
       "    <tr>\n",
       "      <th>0</th>\n",
       "      <td>0</td>\n",
       "      <td>1</td>\n",
       "      <td>9.28</td>\n",
       "      <td>0</td>\n",
       "      <td>0</td>\n",
       "      <td>0</td>\n",
       "      <td>0</td>\n",
       "      <td>1</td>\n",
       "      <td>0</td>\n",
       "      <td>0</td>\n",
       "      <td>...</td>\n",
       "      <td>0</td>\n",
       "      <td>0</td>\n",
       "      <td>0</td>\n",
       "      <td>0</td>\n",
       "      <td>0</td>\n",
       "      <td>0</td>\n",
       "      <td>0</td>\n",
       "      <td>0</td>\n",
       "      <td>0</td>\n",
       "      <td>0</td>\n",
       "    </tr>\n",
       "    <tr>\n",
       "      <th>1</th>\n",
       "      <td>0</td>\n",
       "      <td>0</td>\n",
       "      <td>3.60</td>\n",
       "      <td>0</td>\n",
       "      <td>0</td>\n",
       "      <td>0</td>\n",
       "      <td>0</td>\n",
       "      <td>1</td>\n",
       "      <td>0</td>\n",
       "      <td>0</td>\n",
       "      <td>...</td>\n",
       "      <td>0</td>\n",
       "      <td>0</td>\n",
       "      <td>0</td>\n",
       "      <td>0</td>\n",
       "      <td>0</td>\n",
       "      <td>0</td>\n",
       "      <td>0</td>\n",
       "      <td>0</td>\n",
       "      <td>0</td>\n",
       "      <td>0</td>\n",
       "    </tr>\n",
       "    <tr>\n",
       "      <th>2</th>\n",
       "      <td>0</td>\n",
       "      <td>0</td>\n",
       "      <td>0.76</td>\n",
       "      <td>0</td>\n",
       "      <td>0</td>\n",
       "      <td>0</td>\n",
       "      <td>0</td>\n",
       "      <td>1</td>\n",
       "      <td>0</td>\n",
       "      <td>0</td>\n",
       "      <td>...</td>\n",
       "      <td>0</td>\n",
       "      <td>0</td>\n",
       "      <td>0</td>\n",
       "      <td>0</td>\n",
       "      <td>0</td>\n",
       "      <td>0</td>\n",
       "      <td>0</td>\n",
       "      <td>0</td>\n",
       "      <td>0</td>\n",
       "      <td>0</td>\n",
       "    </tr>\n",
       "    <tr>\n",
       "      <th>3</th>\n",
       "      <td>0</td>\n",
       "      <td>0</td>\n",
       "      <td>11.62</td>\n",
       "      <td>0</td>\n",
       "      <td>0</td>\n",
       "      <td>0</td>\n",
       "      <td>0</td>\n",
       "      <td>1</td>\n",
       "      <td>0</td>\n",
       "      <td>0</td>\n",
       "      <td>...</td>\n",
       "      <td>0</td>\n",
       "      <td>0</td>\n",
       "      <td>0</td>\n",
       "      <td>0</td>\n",
       "      <td>0</td>\n",
       "      <td>0</td>\n",
       "      <td>0</td>\n",
       "      <td>0</td>\n",
       "      <td>0</td>\n",
       "      <td>0</td>\n",
       "    </tr>\n",
       "    <tr>\n",
       "      <th>4</th>\n",
       "      <td>0</td>\n",
       "      <td>1</td>\n",
       "      <td>9.20</td>\n",
       "      <td>0</td>\n",
       "      <td>0</td>\n",
       "      <td>0</td>\n",
       "      <td>0</td>\n",
       "      <td>1</td>\n",
       "      <td>0</td>\n",
       "      <td>0</td>\n",
       "      <td>...</td>\n",
       "      <td>0</td>\n",
       "      <td>0</td>\n",
       "      <td>0</td>\n",
       "      <td>0</td>\n",
       "      <td>0</td>\n",
       "      <td>0</td>\n",
       "      <td>0</td>\n",
       "      <td>0</td>\n",
       "      <td>0</td>\n",
       "      <td>0</td>\n",
       "    </tr>\n",
       "  </tbody>\n",
       "</table>\n",
       "<p>5 rows × 1240 columns</p>\n",
       "</div>"
      ],
      "text/plain": [
       "   is_prescribed  is_import  price_of_medicine  \\\n",
       "0              0          1               9.28   \n",
       "1              0          0               3.60   \n",
       "2              0          0               0.76   \n",
       "3              0          0              11.62   \n",
       "4              0          1               9.20   \n",
       "\n",
       "   category_of_price_above_average  category_of_price_average  \\\n",
       "0                                0                          0   \n",
       "1                                0                          0   \n",
       "2                                0                          0   \n",
       "3                                0                          0   \n",
       "4                                0                          0   \n",
       "\n",
       "   category_of_price_below_average  category_of_price_low  \\\n",
       "0                                0                      0   \n",
       "1                                0                      0   \n",
       "2                                0                      0   \n",
       "3                                0                      0   \n",
       "4                                0                      0   \n",
       "\n",
       "   category_of_price_lowest  dosage_form_аэрозоль  dosage_form_бальзам  ...  \\\n",
       "0                         1                     0                    0  ...   \n",
       "1                         1                     0                    0  ...   \n",
       "2                         1                     0                    0  ...   \n",
       "3                         1                     0                    0  ...   \n",
       "4                         1                     0                    0  ...   \n",
       "\n",
       "   retail_chain_Ивафарм  retail_chain_Искамед  retail_chain_Лигматон  \\\n",
       "0                     0                     0                      0   \n",
       "1                     0                     0                      0   \n",
       "2                     0                     0                      0   \n",
       "3                     0                     0                      0   \n",
       "4                     0                     0                      0   \n",
       "\n",
       "   retail_chain_Мелисса  retail_chain_Моя Аптека  \\\n",
       "0                     0                        0   \n",
       "1                     0                        0   \n",
       "2                     0                        0   \n",
       "3                     0                        0   \n",
       "4                     0                        0   \n",
       "\n",
       "   retail_chain_Остров здоровья  retail_chain_Планета Здоровья  \\\n",
       "0                             0                              0   \n",
       "1                             0                              0   \n",
       "2                             0                              0   \n",
       "3                             0                              0   \n",
       "4                             0                              0   \n",
       "\n",
       "   retail_chain_Ремедика  retail_chain_Салюслайн  retail_chain_ФармОстров  \n",
       "0                      0                       0                        0  \n",
       "1                      0                       0                        0  \n",
       "2                      0                       0                        0  \n",
       "3                      0                       0                        0  \n",
       "4                      0                       0                        0  \n",
       "\n",
       "[5 rows x 1240 columns]"
      ]
     },
     "execution_count": 100,
     "metadata": {},
     "output_type": "execute_result"
    }
   ],
   "source": [
    "categorical_cols = ['category_of_price', 'dosage_form', 'active_ingredient', 'name_of_manufacturer', 'country_of_manufaturer', 'retail_chain'] \n",
    "\n",
    "meds = pd.get_dummies(meds, columns = categorical_cols)\n",
    "\n",
    "meds.head()"
   ]
  },
  {
   "cell_type": "markdown",
   "id": "ecf385ef",
   "metadata": {},
   "source": [
    "Changing name of columns"
   ]
  },
  {
   "cell_type": "code",
   "execution_count": 101,
   "id": "29df223c",
   "metadata": {
    "executionInfo": {
     "elapsed": 11,
     "status": "ok",
     "timestamp": 1670341406321,
     "user": {
      "displayName": "sebl ful",
      "userId": "03602527080582451963"
     },
     "user_tz": -180
    },
    "id": "29df223c"
   },
   "outputs": [],
   "source": [
    "regex = re.compile(r\"\\[|\\]|<\", re.IGNORECASE)\n",
    "\n",
    "meds.columns = [regex.sub(\"_\", col) if any(x in str(col) for x in set(('[', ']', '<'))) else col for col in meds.columns.values]"
   ]
  },
  {
   "cell_type": "markdown",
   "id": "f7fc4fdd",
   "metadata": {
    "id": "f7fc4fdd"
   },
   "source": [
    "<font size=\"4\">Models building</font>"
   ]
  },
  {
   "cell_type": "code",
   "execution_count": 102,
   "id": "95e9ce19",
   "metadata": {
    "executionInfo": {
     "elapsed": 397,
     "status": "ok",
     "timestamp": 1670341406708,
     "user": {
      "displayName": "sebl ful",
      "userId": "03602527080582451963"
     },
     "user_tz": -180
    },
    "id": "95e9ce19"
   },
   "outputs": [],
   "source": [
    "X = meds.loc[:, meds.columns != 'price_of_medicine']\n",
    "y = meds.loc[:, 'price_of_medicine']"
   ]
  },
  {
   "cell_type": "code",
   "execution_count": 19,
   "id": "c8a10d0f",
   "metadata": {
    "executionInfo": {
     "elapsed": 2977,
     "status": "ok",
     "timestamp": 1670341409681,
     "user": {
      "displayName": "sebl ful",
      "userId": "03602527080582451963"
     },
     "user_tz": -180
    },
    "id": "c8a10d0f"
   },
   "outputs": [],
   "source": [
    "X_train, X_test, y_train, y_test = train_test_split(X, y, test_size=0.33)"
   ]
  },
  {
   "cell_type": "code",
   "execution_count": 20,
   "id": "b8207805",
   "metadata": {
    "executionInfo": {
     "elapsed": 18,
     "status": "ok",
     "timestamp": 1670341409683,
     "user": {
      "displayName": "sebl ful",
      "userId": "03602527080582451963"
     },
     "user_tz": -180
    },
    "id": "b8207805"
   },
   "outputs": [],
   "source": [
    "pipeline_lr = Pipeline([(\"lr\", LinearRegression())])\n",
    "pipeline_lasso = Pipeline([(\"lasso\", Lasso())])\n",
    "pipeline_ridge = Pipeline([(\"ridge\", Ridge())])\n",
    "pipeline_elastic = Pipeline([(\"elastik\", ElasticNet())])\n",
    "pipeline_tree = Pipeline([(\"tree\", DecisionTreeRegressor())])\n",
    "pipeline_r_trees = Pipeline([(\"r_trees\", RandomForestRegressor())])\n",
    "pipeline_k_neighb = Pipeline([(\"k_neighb\", KNeighborsRegressor())])\n",
    "pipeline_xgb = Pipeline([(\"xgb\", XGBRegressor())])"
   ]
  },
  {
   "cell_type": "code",
   "execution_count": 21,
   "id": "3ca3498d",
   "metadata": {
    "executionInfo": {
     "elapsed": 19,
     "status": "ok",
     "timestamp": 1670341409684,
     "user": {
      "displayName": "sebl ful",
      "userId": "03602527080582451963"
     },
     "user_tz": -180
    },
    "id": "3ca3498d"
   },
   "outputs": [],
   "source": [
    "pipelines = [pipeline_lr, pipeline_lasso, pipeline_ridge, pipeline_elastic, pipeline_tree, \n",
    "             pipeline_r_trees, pipeline_k_neighb, pipeline_xgb]\n",
    "\n",
    "pipeline_dict = {0: \"LinearRegression\", 1: \"Lasso\", 2: \"Ridge\", 3: \"ElasticNet\", 4: \"DecisionTreeRegressor\", \n",
    "                 5: \"RandomForestRegressor\", 6: \"KNeighborsRegressor\", 7: \"XGBRegressor\"}"
   ]
  },
  {
   "cell_type": "markdown",
   "id": "c1159091",
   "metadata": {},
   "source": [
    "<font size=\"4\">Models evaluation</font>"
   ]
  },
  {
   "cell_type": "code",
   "execution_count": 22,
   "id": "5dd3daf2",
   "metadata": {
    "executionInfo": {
     "elapsed": 20,
     "status": "ok",
     "timestamp": 1670341409686,
     "user": {
      "displayName": "sebl ful",
      "userId": "03602527080582451963"
     },
     "user_tz": -180
    },
    "id": "5dd3daf2"
   },
   "outputs": [
    {
     "name": "stdout",
     "output_type": "stream",
     "text": [
      "1. LinearRegression() has finished\n",
      "2. Lasso() has finished\n",
      "3. Ridge() has finished\n",
      "4. ElasticNet() has finished\n",
      "5. DecisionTreeRegressor() has finished\n",
      "6. RandomForestRegressor() has finished\n",
      "7. KNeighborsRegressor() has finished\n",
      "8. XGBRegressor() has finished\n"
     ]
    }
   ],
   "source": [
    "for n, pipe in enumerate(pipelines):\n",
    "    pipe.fit(X_train, y_train)\n",
    "    print(f'{n+1}. {pipeline_dict[n]}() has finished')"
   ]
  },
  {
   "cell_type": "code",
   "execution_count": null,
   "id": "8c1f2071",
   "metadata": {
    "executionInfo": {
     "elapsed": 21,
     "status": "ok",
     "timestamp": 1670341409688,
     "user": {
      "displayName": "sebl ful",
      "userId": "03602527080582451963"
     },
     "user_tz": -180
    },
    "id": "8c1f2071",
    "scrolled": false
   },
   "outputs": [],
   "source": [
    "mse_scores = []\n",
    "r2_scores = []\n",
    "for i, model in enumerate(pipelines):\n",
    "    y_pred_temp = model.predict(X_test)\n",
    "    mse_temp = mean_squared_error(y_test, y_pred_temp)\n",
    "    r2_temp = r2_score(y_test, y_pred_temp)\n",
    "    mse_scores.append(mse_temp)\n",
    "    r2_scores.append(r2_temp)"
   ]
  },
  {
   "cell_type": "code",
   "execution_count": 115,
   "id": "bd93f4e5",
   "metadata": {},
   "outputs": [],
   "source": [
    "pd.set_option('display.float_format', lambda x: '%.3f' % x)"
   ]
  },
  {
   "cell_type": "code",
   "execution_count": 116,
   "id": "c3204f6d",
   "metadata": {},
   "outputs": [
    {
     "data": {
      "text/html": [
       "<div>\n",
       "<style scoped>\n",
       "    .dataframe tbody tr th:only-of-type {\n",
       "        vertical-align: middle;\n",
       "    }\n",
       "\n",
       "    .dataframe tbody tr th {\n",
       "        vertical-align: top;\n",
       "    }\n",
       "\n",
       "    .dataframe thead th {\n",
       "        text-align: right;\n",
       "    }\n",
       "</style>\n",
       "<table border=\"1\" class=\"dataframe\">\n",
       "  <thead>\n",
       "    <tr style=\"text-align: right;\">\n",
       "      <th></th>\n",
       "      <th>MSE</th>\n",
       "      <th>R2</th>\n",
       "    </tr>\n",
       "  </thead>\n",
       "  <tbody>\n",
       "    <tr>\n",
       "      <th>LinearRegression</th>\n",
       "      <td>200459345972419744.000</td>\n",
       "      <td>-1330492335152505.750</td>\n",
       "    </tr>\n",
       "    <tr>\n",
       "      <th>Lasso</th>\n",
       "      <td>63.976</td>\n",
       "      <td>0.575</td>\n",
       "    </tr>\n",
       "    <tr>\n",
       "      <th>Ridge</th>\n",
       "      <td>7.548</td>\n",
       "      <td>0.950</td>\n",
       "    </tr>\n",
       "    <tr>\n",
       "      <th>ElasticNet</th>\n",
       "      <td>95.586</td>\n",
       "      <td>0.366</td>\n",
       "    </tr>\n",
       "    <tr>\n",
       "      <th>DecisionTreeRegressor</th>\n",
       "      <td>3.854</td>\n",
       "      <td>0.974</td>\n",
       "    </tr>\n",
       "    <tr>\n",
       "      <th>RandomForestRegressor</th>\n",
       "      <td>3.635</td>\n",
       "      <td>0.976</td>\n",
       "    </tr>\n",
       "    <tr>\n",
       "      <th>KNeighborsRegressor</th>\n",
       "      <td>4.666</td>\n",
       "      <td>0.969</td>\n",
       "    </tr>\n",
       "    <tr>\n",
       "      <th>XGBRegressor</th>\n",
       "      <td>7.506</td>\n",
       "      <td>0.950</td>\n",
       "    </tr>\n",
       "  </tbody>\n",
       "</table>\n",
       "</div>"
      ],
      "text/plain": [
       "                                         MSE                    R2\n",
       "LinearRegression      200459345972419744.000 -1330492335152505.750\n",
       "Lasso                                 63.976                 0.575\n",
       "Ridge                                  7.548                 0.950\n",
       "ElasticNet                            95.586                 0.366\n",
       "DecisionTreeRegressor                  3.854                 0.974\n",
       "RandomForestRegressor                  3.635                 0.976\n",
       "KNeighborsRegressor                    4.666                 0.969\n",
       "XGBRegressor                           7.506                 0.950"
      ]
     },
     "execution_count": 116,
     "metadata": {},
     "output_type": "execute_result"
    }
   ],
   "source": [
    "df_scores_m = pd.DataFrame({'MSE': mse_scores, 'R2':r2_scores}, index=pipeline_dict.values())\n",
    "df_scores_m"
   ]
  },
  {
   "cell_type": "markdown",
   "id": "i5n48A7j-X3h",
   "metadata": {
    "id": "i5n48A7j-X3h"
   },
   "source": [
    "<font size=\"4\">Building the ANN</font>"
   ]
  },
  {
   "cell_type": "code",
   "execution_count": 45,
   "id": "OqEyk-XH7y5q",
   "metadata": {
    "executionInfo": {
     "elapsed": 24,
     "status": "ok",
     "timestamp": 1670341409692,
     "user": {
      "displayName": "sebl ful",
      "userId": "03602527080582451963"
     },
     "user_tz": -180
    },
    "id": "OqEyk-XH7y5q"
   },
   "outputs": [],
   "source": [
    "lnn = tf.keras.models.Sequential()\n",
    "lnn.add(tf.keras.layers.Dense(units=32, activation='relu'))\n",
    "lnn.add(tf.keras.layers.Dense(units=16, activation='relu'))\n",
    "lnn.add(tf.keras.layers.Dense(units=8, activation='relu'))\n",
    "lnn.add(tf.keras.layers.Dense(units=1))"
   ]
  },
  {
   "cell_type": "code",
   "execution_count": 46,
   "id": "jtqqd06WACQP",
   "metadata": {
    "executionInfo": {
     "elapsed": 25,
     "status": "ok",
     "timestamp": 1670341409693,
     "user": {
      "displayName": "sebl ful",
      "userId": "03602527080582451963"
     },
     "user_tz": -180
    },
    "id": "jtqqd06WACQP"
   },
   "outputs": [],
   "source": [
    "lnn.compile(loss='mean_absolute_error', optimizer='adam', \n",
    "            metrics = [tf.keras.metrics.MeanSquaredError()])"
   ]
  },
  {
   "cell_type": "code",
   "execution_count": 47,
   "id": "b5g4OouvAl1q",
   "metadata": {
    "colab": {
     "base_uri": "https://localhost:8080/"
    },
    "executionInfo": {
     "elapsed": 40149,
     "status": "ok",
     "timestamp": 1670341449818,
     "user": {
      "displayName": "sebl ful",
      "userId": "03602527080582451963"
     },
     "user_tz": -180
    },
    "id": "b5g4OouvAl1q",
    "outputId": "52ca76e3-09b0-413c-c73a-4d5add9c84f1"
   },
   "outputs": [
    {
     "name": "stdout",
     "output_type": "stream",
     "text": [
      "Epoch 1/50\n",
      "6761/6761 [==============================] - 21s 3ms/step - loss: 2.1564 - mean_squared_error: 15.1980\n",
      "Epoch 2/50\n",
      "6761/6761 [==============================] - 21s 3ms/step - loss: 1.5453 - mean_squared_error: 5.4655\n",
      "Epoch 3/50\n",
      "6761/6761 [==============================] - 24s 4ms/step - loss: 1.4658 - mean_squared_error: 5.0674\n",
      "Epoch 4/50\n",
      "6761/6761 [==============================] - 22s 3ms/step - loss: 1.4227 - mean_squared_error: 4.8730\n",
      "Epoch 5/50\n",
      "6761/6761 [==============================] - 21s 3ms/step - loss: 1.3928 - mean_squared_error: 4.7360\n",
      "Epoch 6/50\n",
      "6761/6761 [==============================] - 19s 3ms/step - loss: 1.3707 - mean_squared_error: 4.6444\n",
      "Epoch 7/50\n",
      "6761/6761 [==============================] - 21s 3ms/step - loss: 1.3552 - mean_squared_error: 4.5958\n",
      "Epoch 8/50\n",
      "6761/6761 [==============================] - 21s 3ms/step - loss: 1.3424 - mean_squared_error: 4.5353\n",
      "Epoch 9/50\n",
      "6761/6761 [==============================] - 19s 3ms/step - loss: 1.3297 - mean_squared_error: 4.4824\n",
      "Epoch 10/50\n",
      "6761/6761 [==============================] - 19s 3ms/step - loss: 1.3208 - mean_squared_error: 4.4556\n",
      "Epoch 11/50\n",
      "6761/6761 [==============================] - 19s 3ms/step - loss: 1.3101 - mean_squared_error: 4.3987\n",
      "Epoch 12/50\n",
      "6761/6761 [==============================] - 19s 3ms/step - loss: 1.3022 - mean_squared_error: 4.3705\n",
      "Epoch 13/50\n",
      "6761/6761 [==============================] - 20s 3ms/step - loss: 1.2950 - mean_squared_error: 4.3557\n",
      "Epoch 14/50\n",
      "6761/6761 [==============================] - 22s 3ms/step - loss: 1.2867 - mean_squared_error: 4.3152\n",
      "Epoch 15/50\n",
      "6761/6761 [==============================] - 20s 3ms/step - loss: 1.2810 - mean_squared_error: 4.2925\n",
      "Epoch 16/50\n",
      "6761/6761 [==============================] - 20s 3ms/step - loss: 1.2741 - mean_squared_error: 4.2728\n",
      "Epoch 17/50\n",
      "6761/6761 [==============================] - 19s 3ms/step - loss: 1.2703 - mean_squared_error: 4.2579\n",
      "Epoch 18/50\n",
      "6761/6761 [==============================] - 19s 3ms/step - loss: 1.2642 - mean_squared_error: 4.2364\n",
      "Epoch 19/50\n",
      "6761/6761 [==============================] - 19s 3ms/step - loss: 1.2581 - mean_squared_error: 4.2119\n",
      "Epoch 20/50\n",
      "6761/6761 [==============================] - 19s 3ms/step - loss: 1.2531 - mean_squared_error: 4.1855\n",
      "Epoch 21/50\n",
      "6761/6761 [==============================] - 20s 3ms/step - loss: 1.2474 - mean_squared_error: 4.1747\n",
      "Epoch 22/50\n",
      "6761/6761 [==============================] - 19s 3ms/step - loss: 1.2430 - mean_squared_error: 4.1626\n",
      "Epoch 23/50\n",
      "6761/6761 [==============================] - 19s 3ms/step - loss: 1.2392 - mean_squared_error: 4.1478\n",
      "Epoch 24/50\n",
      "6761/6761 [==============================] - 20s 3ms/step - loss: 1.2335 - mean_squared_error: 4.1345\n",
      "Epoch 25/50\n",
      "6761/6761 [==============================] - 20s 3ms/step - loss: 1.2301 - mean_squared_error: 4.1198\n",
      "Epoch 26/50\n",
      "6761/6761 [==============================] - 20s 3ms/step - loss: 1.2272 - mean_squared_error: 4.0961\n",
      "Epoch 27/50\n",
      "6761/6761 [==============================] - 20s 3ms/step - loss: 1.2219 - mean_squared_error: 4.0887\n",
      "Epoch 28/50\n",
      "6761/6761 [==============================] - 20s 3ms/step - loss: 1.2191 - mean_squared_error: 4.0713\n",
      "Epoch 29/50\n",
      "6761/6761 [==============================] - 20s 3ms/step - loss: 1.2159 - mean_squared_error: 4.0586\n",
      "Epoch 30/50\n",
      "6761/6761 [==============================] - 22s 3ms/step - loss: 1.2133 - mean_squared_error: 4.0414\n",
      "Epoch 31/50\n",
      "6761/6761 [==============================] - 20s 3ms/step - loss: 1.2097 - mean_squared_error: 4.0409\n",
      "Epoch 32/50\n",
      "6761/6761 [==============================] - 20s 3ms/step - loss: 1.2072 - mean_squared_error: 4.0198\n",
      "Epoch 33/50\n",
      "6761/6761 [==============================] - 20s 3ms/step - loss: 1.2042 - mean_squared_error: 4.0171\n",
      "Epoch 34/50\n",
      "6761/6761 [==============================] - 20s 3ms/step - loss: 1.2017 - mean_squared_error: 4.0067\n",
      "Epoch 35/50\n",
      "6761/6761 [==============================] - 20s 3ms/step - loss: 1.1985 - mean_squared_error: 3.9949\n",
      "Epoch 36/50\n",
      "6761/6761 [==============================] - 20s 3ms/step - loss: 1.1953 - mean_squared_error: 3.9914\n",
      "Epoch 37/50\n",
      "6761/6761 [==============================] - 20s 3ms/step - loss: 1.1943 - mean_squared_error: 3.9793\n",
      "Epoch 38/50\n",
      "6761/6761 [==============================] - 20s 3ms/step - loss: 1.1923 - mean_squared_error: 3.9847\n",
      "Epoch 39/50\n",
      "6761/6761 [==============================] - 20s 3ms/step - loss: 1.1914 - mean_squared_error: 3.9720\n",
      "Epoch 40/50\n",
      "6761/6761 [==============================] - 20s 3ms/step - loss: 1.1877 - mean_squared_error: 3.9663\n",
      "Epoch 41/50\n",
      "6761/6761 [==============================] - 20s 3ms/step - loss: 1.1859 - mean_squared_error: 3.9508\n",
      "Epoch 42/50\n",
      "6761/6761 [==============================] - 20s 3ms/step - loss: 1.1848 - mean_squared_error: 3.9484\n",
      "Epoch 43/50\n",
      "6761/6761 [==============================] - 20s 3ms/step - loss: 1.1830 - mean_squared_error: 3.9408\n",
      "Epoch 44/50\n",
      "6761/6761 [==============================] - 20s 3ms/step - loss: 1.1806 - mean_squared_error: 3.9403\n",
      "Epoch 45/50\n",
      "6761/6761 [==============================] - 21s 3ms/step - loss: 1.1801 - mean_squared_error: 3.9350\n",
      "Epoch 46/50\n",
      "6761/6761 [==============================] - 20s 3ms/step - loss: 1.1774 - mean_squared_error: 3.9278\n",
      "Epoch 47/50\n",
      "6761/6761 [==============================] - 20s 3ms/step - loss: 1.1766 - mean_squared_error: 3.9228\n",
      "Epoch 48/50\n",
      "6761/6761 [==============================] - 20s 3ms/step - loss: 1.1743 - mean_squared_error: 3.9194\n",
      "Epoch 49/50\n",
      "6761/6761 [==============================] - 20s 3ms/step - loss: 1.1746 - mean_squared_error: 3.9192\n",
      "Epoch 50/50\n",
      "6761/6761 [==============================] - 20s 3ms/step - loss: 1.1712 - mean_squared_error: 3.9204\n"
     ]
    },
    {
     "data": {
      "text/plain": [
       "<keras.callbacks.History at 0x1a2a11bcfd0>"
      ]
     },
     "execution_count": 47,
     "metadata": {},
     "output_type": "execute_result"
    }
   ],
   "source": [
    "lnn.fit(X_train, y_train, batch_size = 32, epochs=50)"
   ]
  },
  {
   "cell_type": "markdown",
   "id": "9c9c7362",
   "metadata": {},
   "source": [
    "<font size=\"4\">ANN model evaluation</font>"
   ]
  },
  {
   "cell_type": "code",
   "execution_count": 66,
   "id": "xiqLiVCX7y8s",
   "metadata": {
    "colab": {
     "base_uri": "https://localhost:8080/"
    },
    "executionInfo": {
     "elapsed": 11029,
     "status": "ok",
     "timestamp": 1670341460814,
     "user": {
      "displayName": "sebl ful",
      "userId": "03602527080582451963"
     },
     "user_tz": -180
    },
    "id": "xiqLiVCX7y8s",
    "outputId": "069955ff-0cb6-41bb-ec34-d8ec46dc5198"
   },
   "outputs": [
    {
     "name": "stdout",
     "output_type": "stream",
     "text": [
      "3330/3330 [==============================] - 8s 2ms/step\n"
     ]
    }
   ],
   "source": [
    "y_pred_nn = lnn.predict(X_test)"
   ]
  },
  {
   "cell_type": "code",
   "execution_count": 76,
   "id": "5cd382ef",
   "metadata": {},
   "outputs": [],
   "source": [
    "mse_nn = mean_squared_error(y_test, y_pred_nn)\n",
    "r2_nn = r2_score(y_test, y_pred_nn)"
   ]
  },
  {
   "cell_type": "code",
   "execution_count": 117,
   "id": "2hFO200MCXgI",
   "metadata": {
    "colab": {
     "base_uri": "https://localhost:8080/",
     "height": 424
    },
    "executionInfo": {
     "elapsed": 46,
     "status": "ok",
     "timestamp": 1670341460824,
     "user": {
      "displayName": "sebl ful",
      "userId": "03602527080582451963"
     },
     "user_tz": -180
    },
    "id": "2hFO200MCXgI",
    "outputId": "52748eb0-91e7-47a3-9cc2-3fb02c7de0c5"
   },
   "outputs": [
    {
     "data": {
      "text/html": [
       "<div>\n",
       "<style scoped>\n",
       "    .dataframe tbody tr th:only-of-type {\n",
       "        vertical-align: middle;\n",
       "    }\n",
       "\n",
       "    .dataframe tbody tr th {\n",
       "        vertical-align: top;\n",
       "    }\n",
       "\n",
       "    .dataframe thead th {\n",
       "        text-align: right;\n",
       "    }\n",
       "</style>\n",
       "<table border=\"1\" class=\"dataframe\">\n",
       "  <thead>\n",
       "    <tr style=\"text-align: right;\">\n",
       "      <th></th>\n",
       "      <th>MSE</th>\n",
       "      <th>R2</th>\n",
       "    </tr>\n",
       "  </thead>\n",
       "  <tbody>\n",
       "    <tr>\n",
       "      <th>ANN</th>\n",
       "      <td>4.272</td>\n",
       "      <td>0.972</td>\n",
       "    </tr>\n",
       "  </tbody>\n",
       "</table>\n",
       "</div>"
      ],
      "text/plain": [
       "      MSE    R2\n",
       "ANN 4.272 0.972"
      ]
     },
     "execution_count": 117,
     "metadata": {},
     "output_type": "execute_result"
    }
   ],
   "source": [
    "df_scores_nn = pd.DataFrame({'MSE': mse_nn, 'R2':r2_nn}, index=['ANN'])\n",
    "df_scores_nn"
   ]
  },
  {
   "cell_type": "markdown",
   "id": "6d4f5ab7",
   "metadata": {},
   "source": [
    "<font size=\"4\">Final rating</font>"
   ]
  },
  {
   "cell_type": "code",
   "execution_count": 118,
   "id": "1ac9607c",
   "metadata": {},
   "outputs": [
    {
     "data": {
      "text/html": [
       "<div>\n",
       "<style scoped>\n",
       "    .dataframe tbody tr th:only-of-type {\n",
       "        vertical-align: middle;\n",
       "    }\n",
       "\n",
       "    .dataframe tbody tr th {\n",
       "        vertical-align: top;\n",
       "    }\n",
       "\n",
       "    .dataframe thead th {\n",
       "        text-align: right;\n",
       "    }\n",
       "</style>\n",
       "<table border=\"1\" class=\"dataframe\">\n",
       "  <thead>\n",
       "    <tr style=\"text-align: right;\">\n",
       "      <th></th>\n",
       "      <th>MSE</th>\n",
       "      <th>R2</th>\n",
       "    </tr>\n",
       "  </thead>\n",
       "  <tbody>\n",
       "    <tr>\n",
       "      <th>RandomForestRegressor</th>\n",
       "      <td>3.635</td>\n",
       "      <td>0.976</td>\n",
       "    </tr>\n",
       "    <tr>\n",
       "      <th>DecisionTreeRegressor</th>\n",
       "      <td>3.854</td>\n",
       "      <td>0.974</td>\n",
       "    </tr>\n",
       "    <tr>\n",
       "      <th>ANN</th>\n",
       "      <td>4.272</td>\n",
       "      <td>0.972</td>\n",
       "    </tr>\n",
       "    <tr>\n",
       "      <th>KNeighborsRegressor</th>\n",
       "      <td>4.666</td>\n",
       "      <td>0.969</td>\n",
       "    </tr>\n",
       "    <tr>\n",
       "      <th>XGBRegressor</th>\n",
       "      <td>7.506</td>\n",
       "      <td>0.950</td>\n",
       "    </tr>\n",
       "    <tr>\n",
       "      <th>Ridge</th>\n",
       "      <td>7.548</td>\n",
       "      <td>0.950</td>\n",
       "    </tr>\n",
       "    <tr>\n",
       "      <th>Lasso</th>\n",
       "      <td>63.976</td>\n",
       "      <td>0.575</td>\n",
       "    </tr>\n",
       "    <tr>\n",
       "      <th>ElasticNet</th>\n",
       "      <td>95.586</td>\n",
       "      <td>0.366</td>\n",
       "    </tr>\n",
       "    <tr>\n",
       "      <th>LinearRegression</th>\n",
       "      <td>200459345972419744.000</td>\n",
       "      <td>-1330492335152505.750</td>\n",
       "    </tr>\n",
       "  </tbody>\n",
       "</table>\n",
       "</div>"
      ],
      "text/plain": [
       "                                         MSE                    R2\n",
       "RandomForestRegressor                  3.635                 0.976\n",
       "DecisionTreeRegressor                  3.854                 0.974\n",
       "ANN                                    4.272                 0.972\n",
       "KNeighborsRegressor                    4.666                 0.969\n",
       "XGBRegressor                           7.506                 0.950\n",
       "Ridge                                  7.548                 0.950\n",
       "Lasso                                 63.976                 0.575\n",
       "ElasticNet                            95.586                 0.366\n",
       "LinearRegression      200459345972419744.000 -1330492335152505.750"
      ]
     },
     "execution_count": 118,
     "metadata": {},
     "output_type": "execute_result"
    }
   ],
   "source": [
    "df_scores = pd.concat([df_scores_m, df_scores_nn]).sort_values('MSE', ascending=True)\n",
    "df_scores"
   ]
  },
  {
   "cell_type": "markdown",
   "id": "519b6de9",
   "metadata": {},
   "source": [
    "The Linear Regression without regularization is the worst model with the highest mean squared error. \n",
    "\n",
    "The best choice of type of regularization for linear regression is Ridge regularization.\n",
    "\n",
    "Random Forest Regression has the lowest mean squared error and highest R2 metric, what makes this model best.\n",
    "\n",
    "Oher ensemble methods also show good results. XGB Regressor can show better results with correct hyperparameters.\n",
    "\n",
    "Artificial neural network has good metrics and can also be better with correct architecture and longer training."
   ]
  }
 ],
 "metadata": {
  "colab": {
   "provenance": []
  },
  "kernelspec": {
   "display_name": "Python 3 (ipykernel)",
   "language": "python",
   "name": "python3"
  },
  "language_info": {
   "codemirror_mode": {
    "name": "ipython",
    "version": 3
   },
   "file_extension": ".py",
   "mimetype": "text/x-python",
   "name": "python",
   "nbconvert_exporter": "python",
   "pygments_lexer": "ipython3",
   "version": "3.9.7"
  }
 },
 "nbformat": 4,
 "nbformat_minor": 5
}
